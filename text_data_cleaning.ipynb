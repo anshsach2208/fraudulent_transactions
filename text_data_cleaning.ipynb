{
 "cells": [
  {
   "cell_type": "code",
   "execution_count": 1,
   "metadata": {},
   "outputs": [],
   "source": [
    "import requests\n",
    "import json\n",
    "import pandas as pd\n",
    "import numpy as np\n",
    "import re"
   ]
  },
  {
   "cell_type": "code",
   "execution_count": 2,
   "metadata": {},
   "outputs": [],
   "source": [
    "keyword = 'fraudulent transaction detection'\n",
    "url = 'https://newsapi.org/v2/everything?q={}&apiKey=0e0bd9a0e4ac4518b5366137393752fa&language=en'.format(keyword)"
   ]
  },
  {
   "cell_type": "code",
   "execution_count": 3,
   "metadata": {},
   "outputs": [],
   "source": [
    "keyword2 = 'fraud transaction'\n",
    "url2 = 'https://newsapi.org/v2/everything?q={}&apiKey=0e0bd9a0e4ac4518b5366137393752fa&language=en'.format(keyword)"
   ]
  },
  {
   "cell_type": "code",
   "execution_count": 4,
   "metadata": {},
   "outputs": [],
   "source": [
    "frauds = []\n",
    "res = requests.get(url)\n",
    "data = json.loads(res.content)\n",
    "pages = (data['totalResults']//100) + 1\n",
    "page=1\n",
    "while page<=pages:\n",
    "    per_page = requests.get(url+\"page=\"+str(page))\n",
    "    frauds = frauds + [article['title'] for article in data['articles']]\n",
    "    page+=1"
   ]
  },
  {
   "cell_type": "code",
   "execution_count": 5,
   "metadata": {},
   "outputs": [],
   "source": [
    "frauds2 = []\n",
    "res = requests.get(url2)\n",
    "data = json.loads(res.content)\n",
    "pages = (data['totalResults']//100) + 1\n",
    "page=1\n",
    "while page<=pages:\n",
    "    per_page = requests.get(url2+\"page=\"+str(page))\n",
    "    frauds2 = frauds2 + [article['title'] for article in data['articles']]\n",
    "    page+=1"
   ]
  },
  {
   "cell_type": "code",
   "execution_count": 6,
   "metadata": {},
   "outputs": [
    {
     "data": {
      "text/plain": [
       "['How Machine Learning is Solving Fraud Detection in Finance',\n",
       " 'The Advantages and Disadvantages of Using Payoneer as a Freelancer',\n",
       " 'Amazon Fraud Detector(AFD) launched AFD-Lists to optimize fraud prevention strategies',\n",
       " 'New Protections for Food Benefits Stolen by Skimmers',\n",
       " 'Amazon Fraud Detector introduces Cold Start model training for customers with limited historical data',\n",
       " 'Digital Payments: The Benefits, How To Use Them In Your Business And What To Look For In A Provider',\n",
       " 'EBay buys AI fraud detection company 3PM Shield',\n",
       " \"It's Illegal to Be a 'Money Mule,' Whether You Know It or Not\",\n",
       " 'Transaction Monitoring Market is Likely to Rise at USD 42.52 Billion Globally by 2029, Size, Share, Trends, Demand, Growth and Competitors Analysis',\n",
       " '5 Statistical Paradoxes Data Scientists Should Know',\n",
       " \"Removing Phantoms With Technology and 'Gentle' Persuasion\",\n",
       " 'Radiant Logic Signs Definitive Agreement to Acquire Brainwave GRC',\n",
       " 'Helix Partners with Unit21 to Offer Comprehensive Fraud and Risk Management Solution for Fintechs',\n",
       " 'Q2 : Helix Partners with Unit21 to Offer Comprehensive Fraud and Risk Management Solution for Fintechs',\n",
       " 'Cybercriminals used sophisticated tech to fool Chase and its customer in scam that stole $120,000',\n",
       " 'Transaction Monitoring Market is Likely to Rise at USD 42.52 Billion Globally by 2029, Size, Share, Trends, Demand, Growth and Competitors Analysis',\n",
       " 'Fraud Detection With Apache Kafka, KSQL, and Apache Flink',\n",
       " 'The War on Cash Is Here',\n",
       " \"Sebi orders bourses to release first list of 'big brokers' in a fortnight\",\n",
       " 'There Is a Major Effort in Place to Remove “Phantoms” with Technology and “Gentle” Persuasion and Ultimately Clean Up Voter Rolls',\n",
       " 'You’ve Been Phished! But What Happens Next? (Iain Swaine)',\n",
       " 'CSG Systems International, Inc. (CSGS) Q4 2022 Earnings Call Transcript',\n",
       " 'New MortalKombat ransomware and Laplas Clipper malware threats deployed in financially motivated campaign',\n",
       " 'The War on Cash is Here',\n",
       " 'Afterpay reduces fraud risk with Cloudera',\n",
       " 'How to Manage Virtual Environments and Automate Testing with Tox',\n",
       " 'What are the top 10 ways AI is revolutionizing fintech?',\n",
       " 'Arkose Labs Launches Arkose Email Intelligence, the First Solution that Combines Bot Mitigation with Accurate Email Risk Detection',\n",
       " 'Banking regulatory body wants a ‘tripwire’ to flag APP fraud',\n",
       " 'Estonian anti-money laundering platform used to fight APP fraud',\n",
       " 'The top 5 benefits of AI in banking and finance',\n",
       " '5 Ways to Survive Scam Season — or Rather, Tax Season',\n",
       " 'Nigeria’s Curacel raises funding to power insurance offerings and expand into North Africa',\n",
       " 'Radiant Logic Signs Definitive Agreement to Acquire Brainwave GRC',\n",
       " 'Can Transformers accelerate the evolution of an Intelligent Bank? – Exploring recent research trends',\n",
       " 'Lufax : Supplemental and Updated Disclosures - Form 6-K',\n",
       " 'TELUS International (Cda) Inc. (TIXT) Q4 2022 Earnings Call Transcript',\n",
       " 'Show HN: I Made an OpenAI Integrated Data Analytics Tool',\n",
       " \"This Age-Old Email Scam Is Back With A Modern Scare Tactic Twist, Don't Fall For It\"]"
      ]
     },
     "execution_count": 6,
     "metadata": {},
     "output_type": "execute_result"
    }
   ],
   "source": [
    "frauds"
   ]
  },
  {
   "cell_type": "code",
   "execution_count": 7,
   "metadata": {},
   "outputs": [
    {
     "data": {
      "text/plain": [
       "['How Machine Learning is Solving Fraud Detection in Finance',\n",
       " 'The Advantages and Disadvantages of Using Payoneer as a Freelancer',\n",
       " 'Amazon Fraud Detector(AFD) launched AFD-Lists to optimize fraud prevention strategies',\n",
       " 'New Protections for Food Benefits Stolen by Skimmers',\n",
       " 'Amazon Fraud Detector introduces Cold Start model training for customers with limited historical data',\n",
       " 'Digital Payments: The Benefits, How To Use Them In Your Business And What To Look For In A Provider',\n",
       " 'EBay buys AI fraud detection company 3PM Shield',\n",
       " \"It's Illegal to Be a 'Money Mule,' Whether You Know It or Not\",\n",
       " 'Transaction Monitoring Market is Likely to Rise at USD 42.52 Billion Globally by 2029, Size, Share, Trends, Demand, Growth and Competitors Analysis',\n",
       " '5 Statistical Paradoxes Data Scientists Should Know',\n",
       " \"Removing Phantoms With Technology and 'Gentle' Persuasion\",\n",
       " 'Radiant Logic Signs Definitive Agreement to Acquire Brainwave GRC',\n",
       " 'Helix Partners with Unit21 to Offer Comprehensive Fraud and Risk Management Solution for Fintechs',\n",
       " 'Q2 : Helix Partners with Unit21 to Offer Comprehensive Fraud and Risk Management Solution for Fintechs',\n",
       " 'Cybercriminals used sophisticated tech to fool Chase and its customer in scam that stole $120,000',\n",
       " 'Transaction Monitoring Market is Likely to Rise at USD 42.52 Billion Globally by 2029, Size, Share, Trends, Demand, Growth and Competitors Analysis',\n",
       " 'Fraud Detection With Apache Kafka, KSQL, and Apache Flink',\n",
       " 'The War on Cash Is Here',\n",
       " \"Sebi orders bourses to release first list of 'big brokers' in a fortnight\",\n",
       " 'There Is a Major Effort in Place to Remove “Phantoms” with Technology and “Gentle” Persuasion and Ultimately Clean Up Voter Rolls',\n",
       " 'You’ve Been Phished! But What Happens Next? (Iain Swaine)',\n",
       " 'CSG Systems International, Inc. (CSGS) Q4 2022 Earnings Call Transcript',\n",
       " 'New MortalKombat ransomware and Laplas Clipper malware threats deployed in financially motivated campaign',\n",
       " 'The War on Cash is Here',\n",
       " 'Afterpay reduces fraud risk with Cloudera',\n",
       " 'How to Manage Virtual Environments and Automate Testing with Tox',\n",
       " 'What are the top 10 ways AI is revolutionizing fintech?',\n",
       " 'Arkose Labs Launches Arkose Email Intelligence, the First Solution that Combines Bot Mitigation with Accurate Email Risk Detection',\n",
       " 'Banking regulatory body wants a ‘tripwire’ to flag APP fraud',\n",
       " 'Estonian anti-money laundering platform used to fight APP fraud',\n",
       " 'The top 5 benefits of AI in banking and finance',\n",
       " '5 Ways to Survive Scam Season — or Rather, Tax Season',\n",
       " 'Nigeria’s Curacel raises funding to power insurance offerings and expand into North Africa',\n",
       " 'Radiant Logic Signs Definitive Agreement to Acquire Brainwave GRC',\n",
       " 'Can Transformers accelerate the evolution of an Intelligent Bank? – Exploring recent research trends',\n",
       " 'Lufax : Supplemental and Updated Disclosures - Form 6-K',\n",
       " 'TELUS International (Cda) Inc. (TIXT) Q4 2022 Earnings Call Transcript',\n",
       " 'Show HN: I Made an OpenAI Integrated Data Analytics Tool',\n",
       " \"This Age-Old Email Scam Is Back With A Modern Scare Tactic Twist, Don't Fall For It\"]"
      ]
     },
     "execution_count": 7,
     "metadata": {},
     "output_type": "execute_result"
    }
   ],
   "source": [
    "frauds2"
   ]
  },
  {
   "cell_type": "code",
   "execution_count": 8,
   "metadata": {},
   "outputs": [],
   "source": [
    "sp_char = '[@_!#$%^&*()''<>?/\\|}{~£+:.-]™\"'\n",
    "cleaned = []\n",
    "for i in range(len(frauds)):\n",
    "    frauds[i] = frauds[i].replace(\"- Reuters\",\"\")\n",
    "    \n",
    "    for char in frauds[i]:\n",
    "        if char in sp_char or char.isnumeric():\n",
    "            frauds[i] = frauds[i].replace(char,\"\")"
   ]
  },
  {
   "cell_type": "code",
   "execution_count": 9,
   "metadata": {},
   "outputs": [],
   "source": [
    "sp_char = '[@_!#$%^&*()''<>?/\\|}{~£+:.-]™\"'\n",
    "cleaned = []\n",
    "for i in range(len(frauds2)):\n",
    "    frauds2[i] = frauds2[i].replace(\"- Reuters\",\"\")\n",
    "    \n",
    "    for char in frauds2[i]:\n",
    "        if char in sp_char or char.isnumeric():\n",
    "            frauds2[i] = frauds2[i].replace(char,\"\")"
   ]
  },
  {
   "cell_type": "code",
   "execution_count": 10,
   "metadata": {},
   "outputs": [
    {
     "data": {
      "text/plain": [
       "['How Machine Learning is Solving Fraud Detection in Finance',\n",
       " 'The Advantages and Disadvantages of Using Payoneer as a Freelancer',\n",
       " 'Amazon Fraud DetectorAFD launched AFDLists to optimize fraud prevention strategies',\n",
       " 'New Protections for Food Benefits Stolen by Skimmers',\n",
       " 'Amazon Fraud Detector introduces Cold Start model training for customers with limited historical data',\n",
       " 'Digital Payments The Benefits, How To Use Them In Your Business And What To Look For In A Provider',\n",
       " 'EBay buys AI fraud detection company PM Shield',\n",
       " \"It's Illegal to Be a 'Money Mule,' Whether You Know It or Not\",\n",
       " 'Transaction Monitoring Market is Likely to Rise at USD  Billion Globally by , Size, Share, Trends, Demand, Growth and Competitors Analysis',\n",
       " ' Statistical Paradoxes Data Scientists Should Know',\n",
       " \"Removing Phantoms With Technology and 'Gentle' Persuasion\",\n",
       " 'Radiant Logic Signs Definitive Agreement to Acquire Brainwave GRC',\n",
       " 'Helix Partners with Unit to Offer Comprehensive Fraud and Risk Management Solution for Fintechs',\n",
       " 'Q  Helix Partners with Unit to Offer Comprehensive Fraud and Risk Management Solution for Fintechs',\n",
       " 'Cybercriminals used sophisticated tech to fool Chase and its customer in scam that stole ,',\n",
       " 'Transaction Monitoring Market is Likely to Rise at USD  Billion Globally by , Size, Share, Trends, Demand, Growth and Competitors Analysis',\n",
       " 'Fraud Detection With Apache Kafka, KSQL, and Apache Flink',\n",
       " 'The War on Cash Is Here',\n",
       " \"Sebi orders bourses to release first list of 'big brokers' in a fortnight\",\n",
       " 'There Is a Major Effort in Place to Remove “Phantoms” with Technology and “Gentle” Persuasion and Ultimately Clean Up Voter Rolls',\n",
       " 'You’ve Been Phished But What Happens Next Iain Swaine',\n",
       " 'CSG Systems International, Inc CSGS Q  Earnings Call Transcript',\n",
       " 'New MortalKombat ransomware and Laplas Clipper malware threats deployed in financially motivated campaign',\n",
       " 'The War on Cash is Here',\n",
       " 'Afterpay reduces fraud risk with Cloudera',\n",
       " 'How to Manage Virtual Environments and Automate Testing with Tox',\n",
       " 'What are the top  ways AI is revolutionizing fintech',\n",
       " 'Arkose Labs Launches Arkose Email Intelligence, the First Solution that Combines Bot Mitigation with Accurate Email Risk Detection',\n",
       " 'Banking regulatory body wants a ‘tripwire’ to flag APP fraud',\n",
       " 'Estonian antimoney laundering platform used to fight APP fraud',\n",
       " 'The top  benefits of AI in banking and finance',\n",
       " ' Ways to Survive Scam Season — or Rather, Tax Season',\n",
       " 'Nigeria’s Curacel raises funding to power insurance offerings and expand into North Africa',\n",
       " 'Radiant Logic Signs Definitive Agreement to Acquire Brainwave GRC',\n",
       " 'Can Transformers accelerate the evolution of an Intelligent Bank – Exploring recent research trends',\n",
       " 'Lufax  Supplemental and Updated Disclosures  Form K',\n",
       " 'TELUS International Cda Inc TIXT Q  Earnings Call Transcript',\n",
       " 'Show HN I Made an OpenAI Integrated Data Analytics Tool',\n",
       " \"This AgeOld Email Scam Is Back With A Modern Scare Tactic Twist, Don't Fall For It\"]"
      ]
     },
     "execution_count": 10,
     "metadata": {},
     "output_type": "execute_result"
    }
   ],
   "source": [
    "frauds"
   ]
  },
  {
   "cell_type": "code",
   "execution_count": 11,
   "metadata": {},
   "outputs": [
    {
     "data": {
      "text/plain": [
       "['How Machine Learning is Solving Fraud Detection in Finance',\n",
       " 'The Advantages and Disadvantages of Using Payoneer as a Freelancer',\n",
       " 'Amazon Fraud DetectorAFD launched AFDLists to optimize fraud prevention strategies',\n",
       " 'New Protections for Food Benefits Stolen by Skimmers',\n",
       " 'Amazon Fraud Detector introduces Cold Start model training for customers with limited historical data',\n",
       " 'Digital Payments The Benefits, How To Use Them In Your Business And What To Look For In A Provider',\n",
       " 'EBay buys AI fraud detection company PM Shield',\n",
       " \"It's Illegal to Be a 'Money Mule,' Whether You Know It or Not\",\n",
       " 'Transaction Monitoring Market is Likely to Rise at USD  Billion Globally by , Size, Share, Trends, Demand, Growth and Competitors Analysis',\n",
       " ' Statistical Paradoxes Data Scientists Should Know',\n",
       " \"Removing Phantoms With Technology and 'Gentle' Persuasion\",\n",
       " 'Radiant Logic Signs Definitive Agreement to Acquire Brainwave GRC',\n",
       " 'Helix Partners with Unit to Offer Comprehensive Fraud and Risk Management Solution for Fintechs',\n",
       " 'Q  Helix Partners with Unit to Offer Comprehensive Fraud and Risk Management Solution for Fintechs',\n",
       " 'Cybercriminals used sophisticated tech to fool Chase and its customer in scam that stole ,',\n",
       " 'Transaction Monitoring Market is Likely to Rise at USD  Billion Globally by , Size, Share, Trends, Demand, Growth and Competitors Analysis',\n",
       " 'Fraud Detection With Apache Kafka, KSQL, and Apache Flink',\n",
       " 'The War on Cash Is Here',\n",
       " \"Sebi orders bourses to release first list of 'big brokers' in a fortnight\",\n",
       " 'There Is a Major Effort in Place to Remove “Phantoms” with Technology and “Gentle” Persuasion and Ultimately Clean Up Voter Rolls',\n",
       " 'You’ve Been Phished But What Happens Next Iain Swaine',\n",
       " 'CSG Systems International, Inc CSGS Q  Earnings Call Transcript',\n",
       " 'New MortalKombat ransomware and Laplas Clipper malware threats deployed in financially motivated campaign',\n",
       " 'The War on Cash is Here',\n",
       " 'Afterpay reduces fraud risk with Cloudera',\n",
       " 'How to Manage Virtual Environments and Automate Testing with Tox',\n",
       " 'What are the top  ways AI is revolutionizing fintech',\n",
       " 'Arkose Labs Launches Arkose Email Intelligence, the First Solution that Combines Bot Mitigation with Accurate Email Risk Detection',\n",
       " 'Banking regulatory body wants a ‘tripwire’ to flag APP fraud',\n",
       " 'Estonian antimoney laundering platform used to fight APP fraud',\n",
       " 'The top  benefits of AI in banking and finance',\n",
       " ' Ways to Survive Scam Season — or Rather, Tax Season',\n",
       " 'Nigeria’s Curacel raises funding to power insurance offerings and expand into North Africa',\n",
       " 'Radiant Logic Signs Definitive Agreement to Acquire Brainwave GRC',\n",
       " 'Can Transformers accelerate the evolution of an Intelligent Bank – Exploring recent research trends',\n",
       " 'Lufax  Supplemental and Updated Disclosures  Form K',\n",
       " 'TELUS International Cda Inc TIXT Q  Earnings Call Transcript',\n",
       " 'Show HN I Made an OpenAI Integrated Data Analytics Tool',\n",
       " \"This AgeOld Email Scam Is Back With A Modern Scare Tactic Twist, Don't Fall For It\"]"
      ]
     },
     "execution_count": 11,
     "metadata": {},
     "output_type": "execute_result"
    }
   ],
   "source": [
    "frauds2"
   ]
  },
  {
   "cell_type": "code",
   "execution_count": 12,
   "metadata": {},
   "outputs": [],
   "source": [
    "dict={'frauds':frauds}"
   ]
  },
  {
   "cell_type": "code",
   "execution_count": 13,
   "metadata": {},
   "outputs": [],
   "source": [
    "dict2={'frauds':frauds2}"
   ]
  },
  {
   "cell_type": "code",
   "execution_count": 14,
   "metadata": {},
   "outputs": [
    {
     "data": {
      "text/html": [
       "<div>\n",
       "<style scoped>\n",
       "    .dataframe tbody tr th:only-of-type {\n",
       "        vertical-align: middle;\n",
       "    }\n",
       "\n",
       "    .dataframe tbody tr th {\n",
       "        vertical-align: top;\n",
       "    }\n",
       "\n",
       "    .dataframe thead th {\n",
       "        text-align: right;\n",
       "    }\n",
       "</style>\n",
       "<table border=\"1\" class=\"dataframe\">\n",
       "  <thead>\n",
       "    <tr style=\"text-align: right;\">\n",
       "      <th></th>\n",
       "      <th>frauds</th>\n",
       "    </tr>\n",
       "  </thead>\n",
       "  <tbody>\n",
       "    <tr>\n",
       "      <th>0</th>\n",
       "      <td>How Machine Learning is Solving Fraud Detectio...</td>\n",
       "    </tr>\n",
       "    <tr>\n",
       "      <th>1</th>\n",
       "      <td>The Advantages and Disadvantages of Using Payo...</td>\n",
       "    </tr>\n",
       "    <tr>\n",
       "      <th>2</th>\n",
       "      <td>Amazon Fraud DetectorAFD launched AFDLists to ...</td>\n",
       "    </tr>\n",
       "    <tr>\n",
       "      <th>3</th>\n",
       "      <td>New Protections for Food Benefits Stolen by Sk...</td>\n",
       "    </tr>\n",
       "    <tr>\n",
       "      <th>4</th>\n",
       "      <td>Amazon Fraud Detector introduces Cold Start mo...</td>\n",
       "    </tr>\n",
       "  </tbody>\n",
       "</table>\n",
       "</div>"
      ],
      "text/plain": [
       "                                              frauds\n",
       "0  How Machine Learning is Solving Fraud Detectio...\n",
       "1  The Advantages and Disadvantages of Using Payo...\n",
       "2  Amazon Fraud DetectorAFD launched AFDLists to ...\n",
       "3  New Protections for Food Benefits Stolen by Sk...\n",
       "4  Amazon Fraud Detector introduces Cold Start mo..."
      ]
     },
     "execution_count": 14,
     "metadata": {},
     "output_type": "execute_result"
    }
   ],
   "source": [
    "fraud_df=pd.DataFrame(dict)\n",
    "fraud_df.head()"
   ]
  },
  {
   "cell_type": "code",
   "execution_count": 15,
   "metadata": {},
   "outputs": [
    {
     "data": {
      "text/html": [
       "<div>\n",
       "<style scoped>\n",
       "    .dataframe tbody tr th:only-of-type {\n",
       "        vertical-align: middle;\n",
       "    }\n",
       "\n",
       "    .dataframe tbody tr th {\n",
       "        vertical-align: top;\n",
       "    }\n",
       "\n",
       "    .dataframe thead th {\n",
       "        text-align: right;\n",
       "    }\n",
       "</style>\n",
       "<table border=\"1\" class=\"dataframe\">\n",
       "  <thead>\n",
       "    <tr style=\"text-align: right;\">\n",
       "      <th></th>\n",
       "      <th>frauds</th>\n",
       "    </tr>\n",
       "  </thead>\n",
       "  <tbody>\n",
       "    <tr>\n",
       "      <th>0</th>\n",
       "      <td>How Machine Learning is Solving Fraud Detectio...</td>\n",
       "    </tr>\n",
       "    <tr>\n",
       "      <th>1</th>\n",
       "      <td>The Advantages and Disadvantages of Using Payo...</td>\n",
       "    </tr>\n",
       "    <tr>\n",
       "      <th>2</th>\n",
       "      <td>Amazon Fraud DetectorAFD launched AFDLists to ...</td>\n",
       "    </tr>\n",
       "    <tr>\n",
       "      <th>3</th>\n",
       "      <td>New Protections for Food Benefits Stolen by Sk...</td>\n",
       "    </tr>\n",
       "    <tr>\n",
       "      <th>4</th>\n",
       "      <td>Amazon Fraud Detector introduces Cold Start mo...</td>\n",
       "    </tr>\n",
       "  </tbody>\n",
       "</table>\n",
       "</div>"
      ],
      "text/plain": [
       "                                              frauds\n",
       "0  How Machine Learning is Solving Fraud Detectio...\n",
       "1  The Advantages and Disadvantages of Using Payo...\n",
       "2  Amazon Fraud DetectorAFD launched AFDLists to ...\n",
       "3  New Protections for Food Benefits Stolen by Sk...\n",
       "4  Amazon Fraud Detector introduces Cold Start mo..."
      ]
     },
     "execution_count": 15,
     "metadata": {},
     "output_type": "execute_result"
    }
   ],
   "source": [
    "fraud_df2=pd.DataFrame(dict2)\n",
    "fraud_df2.head()"
   ]
  },
  {
   "cell_type": "code",
   "execution_count": 20,
   "metadata": {},
   "outputs": [],
   "source": [
    "fraud_df.to_csv(\"./datasets/fraudulent_text_data.csv\",index=False)\n",
    "fraud_df2.to_csv(\"./datasets/fraudulent_text_data.csv\", index=False, mode=\"a\")"
   ]
  },
  {
   "cell_type": "code",
   "execution_count": null,
   "metadata": {},
   "outputs": [],
   "source": []
  }
 ],
 "metadata": {
  "interpreter": {
   "hash": "aee8b7b246df8f9039afb4144a1f6fd8d2ca17a180786b69acc140d282b71a49"
  },
  "kernelspec": {
   "display_name": "Python 3.10.4 64-bit",
   "language": "python",
   "name": "python3"
  },
  "language_info": {
   "codemirror_mode": {
    "name": "ipython",
    "version": 3
   },
   "file_extension": ".py",
   "mimetype": "text/x-python",
   "name": "python",
   "nbconvert_exporter": "python",
   "pygments_lexer": "ipython3",
   "version": "3.10.4"
  },
  "orig_nbformat": 4
 },
 "nbformat": 4,
 "nbformat_minor": 2
}
