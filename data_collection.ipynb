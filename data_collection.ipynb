{
 "cells": [
  {
   "cell_type": "code",
   "execution_count": 1,
   "id": "4e65ca50",
   "metadata": {},
   "outputs": [],
   "source": [
    "# Necessary imports for this notebook\n",
    "import os\n",
    "\n",
    "import numpy as np\n",
    "import pandas as pd\n",
    "\n",
    "import datetime\n",
    "import time\n",
    "\n",
    "import random\n",
    "\n",
    "# For plotting\n",
    "%matplotlib inline\n",
    "\n",
    "import matplotlib.pyplot as plt\n",
    "import seaborn as sns\n",
    "\n",
    "sns.set_style('darkgrid', {'axes.facecolor': '0.9'})"
   ]
  },
  {
   "cell_type": "code",
   "execution_count": 2,
   "id": "23df86d6",
   "metadata": {},
   "outputs": [],
   "source": [
    "import kaggle"
   ]
  },
  {
   "cell_type": "code",
   "execution_count": 3,
   "id": "3a7262f7",
   "metadata": {},
   "outputs": [],
   "source": [
    "from kaggle.api.kaggle_api_extended import KaggleApi\n",
    "api = KaggleApi()\n",
    "api.authenticate()"
   ]
  },
  {
   "cell_type": "code",
   "execution_count": 4,
   "id": "af383ba1",
   "metadata": {},
   "outputs": [
    {
     "data": {
      "text/plain": [
       "True"
      ]
     },
     "execution_count": 4,
     "metadata": {},
     "output_type": "execute_result"
    }
   ],
   "source": [
    "api.dataset_download_file('ealtman2019/credit-card-transactions',\n",
    "                          file_name='credit_card_transactions-ibm_v2.csv',\n",
    "                          path='./datasets')"
   ]
  },
  {
   "cell_type": "code",
   "execution_count": 5,
   "id": "4fbcb6ed",
   "metadata": {},
   "outputs": [],
   "source": [
    "import zipfile\n",
    "\n",
    "with zipfile.ZipFile('./datasets/credit_card_transactions-ibm_v2.csv.zip', 'r') as zipref:\n",
    "    zipref.extractall('./datasets/')"
   ]
  },
  {
   "cell_type": "code",
   "execution_count": 6,
   "id": "1832a55d",
   "metadata": {},
   "outputs": [
    {
     "data": {
      "text/html": [
       "<div>\n",
       "<style scoped>\n",
       "    .dataframe tbody tr th:only-of-type {\n",
       "        vertical-align: middle;\n",
       "    }\n",
       "\n",
       "    .dataframe tbody tr th {\n",
       "        vertical-align: top;\n",
       "    }\n",
       "\n",
       "    .dataframe thead th {\n",
       "        text-align: right;\n",
       "    }\n",
       "</style>\n",
       "<table border=\"1\" class=\"dataframe\">\n",
       "  <thead>\n",
       "    <tr style=\"text-align: right;\">\n",
       "      <th></th>\n",
       "      <th>User</th>\n",
       "      <th>Card</th>\n",
       "      <th>Year</th>\n",
       "      <th>Month</th>\n",
       "      <th>Day</th>\n",
       "      <th>Time</th>\n",
       "      <th>Amount</th>\n",
       "      <th>Use Chip</th>\n",
       "      <th>Merchant Name</th>\n",
       "      <th>Merchant City</th>\n",
       "      <th>Merchant State</th>\n",
       "      <th>Zip</th>\n",
       "      <th>MCC</th>\n",
       "      <th>Errors?</th>\n",
       "      <th>Is Fraud?</th>\n",
       "    </tr>\n",
       "  </thead>\n",
       "  <tbody>\n",
       "    <tr>\n",
       "      <th>18199893</th>\n",
       "      <td>1470</td>\n",
       "      <td>0</td>\n",
       "      <td>2019</td>\n",
       "      <td>7</td>\n",
       "      <td>10</td>\n",
       "      <td>00:11</td>\n",
       "      <td>$59.18</td>\n",
       "      <td>Chip Transaction</td>\n",
       "      <td>-6853385250336487907</td>\n",
       "      <td>Harwood</td>\n",
       "      <td>MD</td>\n",
       "      <td>20776.0</td>\n",
       "      <td>5813</td>\n",
       "      <td>NaN</td>\n",
       "      <td>No</td>\n",
       "    </tr>\n",
       "    <tr>\n",
       "      <th>9731325</th>\n",
       "      <td>822</td>\n",
       "      <td>1</td>\n",
       "      <td>2019</td>\n",
       "      <td>1</td>\n",
       "      <td>14</td>\n",
       "      <td>22:12</td>\n",
       "      <td>$280.91</td>\n",
       "      <td>Online Transaction</td>\n",
       "      <td>4241336128694185533</td>\n",
       "      <td>ONLINE</td>\n",
       "      <td>NaN</td>\n",
       "      <td>NaN</td>\n",
       "      <td>4814</td>\n",
       "      <td>NaN</td>\n",
       "      <td>No</td>\n",
       "    </tr>\n",
       "    <tr>\n",
       "      <th>536687</th>\n",
       "      <td>41</td>\n",
       "      <td>3</td>\n",
       "      <td>2010</td>\n",
       "      <td>3</td>\n",
       "      <td>15</td>\n",
       "      <td>07:07</td>\n",
       "      <td>$-144.00</td>\n",
       "      <td>Swipe Transaction</td>\n",
       "      <td>190253443608377572</td>\n",
       "      <td>Hemet</td>\n",
       "      <td>CA</td>\n",
       "      <td>92543.0</td>\n",
       "      <td>3359</td>\n",
       "      <td>NaN</td>\n",
       "      <td>No</td>\n",
       "    </tr>\n",
       "    <tr>\n",
       "      <th>13223840</th>\n",
       "      <td>1084</td>\n",
       "      <td>0</td>\n",
       "      <td>2015</td>\n",
       "      <td>9</td>\n",
       "      <td>20</td>\n",
       "      <td>14:58</td>\n",
       "      <td>$6.76</td>\n",
       "      <td>Chip Transaction</td>\n",
       "      <td>-7837310524365334241</td>\n",
       "      <td>Littleton</td>\n",
       "      <td>CO</td>\n",
       "      <td>80122.0</td>\n",
       "      <td>5300</td>\n",
       "      <td>NaN</td>\n",
       "      <td>No</td>\n",
       "    </tr>\n",
       "    <tr>\n",
       "      <th>17070521</th>\n",
       "      <td>1384</td>\n",
       "      <td>0</td>\n",
       "      <td>2014</td>\n",
       "      <td>10</td>\n",
       "      <td>12</td>\n",
       "      <td>11:44</td>\n",
       "      <td>$9.17</td>\n",
       "      <td>Swipe Transaction</td>\n",
       "      <td>-5023497618971072366</td>\n",
       "      <td>Gardner</td>\n",
       "      <td>KS</td>\n",
       "      <td>66030.0</td>\n",
       "      <td>5812</td>\n",
       "      <td>NaN</td>\n",
       "      <td>No</td>\n",
       "    </tr>\n",
       "  </tbody>\n",
       "</table>\n",
       "</div>"
      ],
      "text/plain": [
       "          User  Card  Year  Month  Day   Time    Amount            Use Chip  \\\n",
       "18199893  1470     0  2019      7   10  00:11    $59.18    Chip Transaction   \n",
       "9731325    822     1  2019      1   14  22:12   $280.91  Online Transaction   \n",
       "536687      41     3  2010      3   15  07:07  $-144.00   Swipe Transaction   \n",
       "13223840  1084     0  2015      9   20  14:58     $6.76    Chip Transaction   \n",
       "17070521  1384     0  2014     10   12  11:44     $9.17   Swipe Transaction   \n",
       "\n",
       "                Merchant Name Merchant City Merchant State      Zip   MCC  \\\n",
       "18199893 -6853385250336487907       Harwood             MD  20776.0  5813   \n",
       "9731325   4241336128694185533        ONLINE            NaN      NaN  4814   \n",
       "536687     190253443608377572         Hemet             CA  92543.0  3359   \n",
       "13223840 -7837310524365334241     Littleton             CO  80122.0  5300   \n",
       "17070521 -5023497618971072366       Gardner             KS  66030.0  5812   \n",
       "\n",
       "         Errors? Is Fraud?  \n",
       "18199893     NaN        No  \n",
       "9731325      NaN        No  \n",
       "536687       NaN        No  \n",
       "13223840     NaN        No  \n",
       "17070521     NaN        No  "
      ]
     },
     "execution_count": 6,
     "metadata": {},
     "output_type": "execute_result"
    }
   ],
   "source": [
    "creditcard_df= pd.read_csv(\"./datasets/credit_card_transactions-ibm_v2.csv\").sample(n=100000, random_state=42)\n",
    "creditcard_df.to_csv('./datasets/credit_card_transactionsz-modified.csv') \n",
    "creditcard_df.head()"
   ]
  },
  {
   "cell_type": "code",
   "execution_count": 7,
   "id": "33bc5660",
   "metadata": {},
   "outputs": [
    {
     "name": "stdout",
     "output_type": "stream",
     "text": [
      "file deleted\n"
     ]
    }
   ],
   "source": [
    "file = './datasets/credit_card_transactions-ibm_v2.csv'\n",
    "if(os.path.exists(file) and os.path.isfile(file)):\n",
    "  os.remove(file)\n",
    "  print(\"file deleted\")\n",
    "else:\n",
    "  print(\"file not found\")"
   ]
  },
  {
   "cell_type": "code",
   "execution_count": 8,
   "id": "5628fd62",
   "metadata": {},
   "outputs": [
    {
     "name": "stdout",
     "output_type": "stream",
     "text": [
      "deleted\n"
     ]
    }
   ],
   "source": [
    "zip_folder = './datasets/credit_card_transactions-ibm_v2.csv.zip'\n",
    "if(os.path.exists(zip_folder) and os.path.isfile(zip_folder)):\n",
    "  os.remove(zip_folder)\n",
    "  print(\"deleted\")\n",
    "else:\n",
    "  print(\"not found\")"
   ]
  },
  {
   "cell_type": "code",
   "execution_count": 9,
   "id": "5970e50f",
   "metadata": {},
   "outputs": [
    {
     "data": {
      "text/plain": [
       "User                int64\n",
       "Card                int64\n",
       "Year                int64\n",
       "Month               int64\n",
       "Day                 int64\n",
       "Time               object\n",
       "Amount             object\n",
       "Use Chip           object\n",
       "Merchant Name       int64\n",
       "Merchant City      object\n",
       "Merchant State     object\n",
       "Zip               float64\n",
       "MCC                 int64\n",
       "Errors?            object\n",
       "Is Fraud?          object\n",
       "dtype: object"
      ]
     },
     "execution_count": 9,
     "metadata": {},
     "output_type": "execute_result"
    }
   ],
   "source": [
    "creditcard_df.dtypes"
   ]
  },
  {
   "cell_type": "code",
   "execution_count": 10,
   "id": "73783c03",
   "metadata": {},
   "outputs": [
    {
     "name": "stdout",
     "output_type": "stream",
     "text": [
      "<class 'pandas.core.frame.DataFrame'>\n",
      "Int64Index: 100000 entries, 18199893 to 4816941\n",
      "Data columns (total 15 columns):\n",
      " #   Column          Non-Null Count   Dtype  \n",
      "---  ------          --------------   -----  \n",
      " 0   User            100000 non-null  int64  \n",
      " 1   Card            100000 non-null  int64  \n",
      " 2   Year            100000 non-null  int64  \n",
      " 3   Month           100000 non-null  int64  \n",
      " 4   Day             100000 non-null  int64  \n",
      " 5   Time            100000 non-null  object \n",
      " 6   Amount          100000 non-null  object \n",
      " 7   Use Chip        100000 non-null  object \n",
      " 8   Merchant Name   100000 non-null  int64  \n",
      " 9   Merchant City   100000 non-null  object \n",
      " 10  Merchant State  88782 non-null   object \n",
      " 11  Zip             88134 non-null   float64\n",
      " 12  MCC             100000 non-null  int64  \n",
      " 13  Errors?         1576 non-null    object \n",
      " 14  Is Fraud?       100000 non-null  object \n",
      "dtypes: float64(1), int64(7), object(7)\n",
      "memory usage: 12.2+ MB\n"
     ]
    }
   ],
   "source": [
    "creditcard_df.info()"
   ]
  },
  {
   "cell_type": "code",
   "execution_count": 11,
   "id": "be1a62e3",
   "metadata": {},
   "outputs": [
    {
     "data": {
      "text/plain": [
       "([0, 1, 2, 3, 4, 5, 6, 7, 8, 9, 10, 11, 12, 13, 14],\n",
       " [Text(0, 0, ''),\n",
       "  Text(0, 0, ''),\n",
       "  Text(0, 0, ''),\n",
       "  Text(0, 0, ''),\n",
       "  Text(0, 0, ''),\n",
       "  Text(0, 0, ''),\n",
       "  Text(0, 0, ''),\n",
       "  Text(0, 0, ''),\n",
       "  Text(0, 0, ''),\n",
       "  Text(0, 0, ''),\n",
       "  Text(0, 0, ''),\n",
       "  Text(0, 0, ''),\n",
       "  Text(0, 0, ''),\n",
       "  Text(0, 0, ''),\n",
       "  Text(0, 0, '')])"
      ]
     },
     "execution_count": 11,
     "metadata": {},
     "output_type": "execute_result"
    },
    {
     "data": {
      "image/png": "[encoded data removed]",
      "text/plain": [
       "<Figure size 640x480 with 1 Axes>"
      ]
     },
     "metadata": {},
     "output_type": "display_data"
    }
   ],
   "source": [
    "percent_missing=(creditcard_df.isnull().sum()*100/creditcard_df.shape[0]).sort_values(ascending=True)\n",
    "plt.title(\"Missing Value Analysis\")\n",
    "plt.xlabel(\"Features\")\n",
    "plt.ylabel(\"% of missing values\")\n",
    "plt.bar(percent_missing.sort_values(ascending=False).index,percent_missing.sort_values(ascending=False),color=(0.1, 0.1, 0.1, 0.1),edgecolor='blue')\n",
    "plt.xticks(rotation=90)"
   ]
  },
  {
   "cell_type": "code",
   "execution_count": 12,
   "id": "2bdd7766",
   "metadata": {},
   "outputs": [
    {
     "data": {
      "text/plain": [
       "User                  0\n",
       "Card                  0\n",
       "Year                  0\n",
       "Month                 0\n",
       "Day                   0\n",
       "Time                  0\n",
       "Amount                0\n",
       "Use Chip              0\n",
       "Merchant Name         0\n",
       "Merchant City         0\n",
       "Merchant State    11218\n",
       "Zip               11866\n",
       "MCC                   0\n",
       "Errors?           98424\n",
       "Is Fraud?             0\n",
       "dtype: int64"
      ]
     },
     "execution_count": 12,
     "metadata": {},
     "output_type": "execute_result"
    }
   ],
   "source": [
    "creditcard_df.isnull().sum()"
   ]
  },
  {
   "cell_type": "code",
   "execution_count": null,
   "id": "00709f08",
   "metadata": {},
   "outputs": [],
   "source": []
  }
 ],
 "metadata": {
  "kernelspec": {
   "display_name": "Python 3 (ipykernel)",
   "language": "python",
   "name": "python3"
  },
  "language_info": {
   "codemirror_mode": {
    "name": "ipython",
    "version": 3
   },
   "file_extension": ".py",
   "mimetype": "text/x-python",
   "name": "python",
   "nbconvert_exporter": "python",
   "pygments_lexer": "ipython3",
   "version": "3.10.4"
  }
 },
 "nbformat": 4,
 "nbformat_minor": 5
}
